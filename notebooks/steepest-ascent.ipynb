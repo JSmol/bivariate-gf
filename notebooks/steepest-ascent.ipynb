{
 "cells": [
  {
   "cell_type": "code",
   "execution_count": 12,
   "id": "6763912f",
   "metadata": {},
   "outputs": [],
   "source": [
    "from sage.all import *\n",
    "\n",
    "x = var('x')\n",
    "y = function('y')(x)\n",
    "\n",
    "r = s = 1\n",
    "h = - r*log(real(x)) - s*log(real(y))"
   ]
  },
  {
   "cell_type": "code",
   "execution_count": 13,
   "id": "3ce8df29",
   "metadata": {},
   "outputs": [
    {
     "data": {
      "text/html": [
       "<html>\\[\\newcommand{\\Bold}[1]{\\mathbf{#1}}-\\frac{\\mathrm{D}_{0}\\left({\\rm real}_{{\\rm part}}\\right)\\left(y\\left(1\\right)\\right) \\mathrm{D}_{0}\\left(y\\right)\\left(1\\right)}{\\Re \\left( y\\left(1\\right) \\right)} - \\mathrm{D}_{0}\\left({\\rm real}_{{\\rm part}}\\right)\\left(1\\right)\\]</html>"
      ],
      "text/latex": [
       "$$\\newcommand{\\Bold}[1]{\\mathbf{#1}}-\\frac{\\mathrm{D}_{0}\\left({\\rm real}_{{\\rm part}}\\right)\\left(y\\left(1\\right)\\right) \\mathrm{D}_{0}\\left(y\\right)\\left(1\\right)}{\\Re \\left( y\\left(1\\right) \\right)} - \\mathrm{D}_{0}\\left({\\rm real}_{{\\rm part}}\\right)\\left(1\\right)$$"
      ],
      "text/plain": [
       "-D[0](real_part)(y(1))*D[0](y)(1)/real_part(y(1)) - D[0](real_part)(1)"
      ]
     },
     "metadata": {},
     "output_type": "display_data"
    }
   ],
   "source": [
    "show(diff(h, x)(x=1, y=1))"
   ]
  },
  {
   "cell_type": "code",
   "execution_count": 18,
   "id": "bd67b561",
   "metadata": {},
   "outputs": [
    {
     "data": {
      "text/plain": [
       "-log(real_part(y(1)))"
      ]
     },
     "execution_count": 18,
     "metadata": {},
     "output_type": "execute_result"
    }
   ],
   "source": [
    "h(x=1, y=5)"
   ]
  },
  {
   "cell_type": "code",
   "execution_count": null,
   "id": "aec8ead0",
   "metadata": {},
   "outputs": [],
   "source": []
  }
 ],
 "metadata": {
  "kernelspec": {
   "display_name": "SageMath 9.4",
   "language": "sage",
   "name": "sagemath"
  },
  "language_info": {
   "codemirror_mode": {
    "name": "ipython",
    "version": 3
   },
   "file_extension": ".py",
   "mimetype": "text/x-python",
   "name": "python",
   "nbconvert_exporter": "python",
   "pygments_lexer": "ipython3",
   "version": "3.10.1"
  }
 },
 "nbformat": 4,
 "nbformat_minor": 5
}
