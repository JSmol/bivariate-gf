{
 "cells": [
  {
   "cell_type": "code",
   "execution_count": 3,
   "id": "77fe7c8d",
   "metadata": {},
   "outputs": [
    {
     "ename": "ImportError",
     "evalue": "attempted relative import with no known parent package",
     "output_type": "error",
     "traceback": [
      "\u001b[0;31m---------------------------------------------------------------------------\u001b[0m",
      "\u001b[0;31mImportError\u001b[0m                               Traceback (most recent call last)",
      "\u001b[0;32m/tmp/ipykernel_2196134/3380506343.py\u001b[0m in \u001b[0;36m<module>\u001b[0;34m\u001b[0m\n\u001b[0;32m----> 1\u001b[0;31m \u001b[0;32mfrom\u001b[0m \u001b[0;34m.\u001b[0m\u001b[0;34m.\u001b[0m\u001b[0mstepsize\u001b[0m \u001b[0;32mimport\u001b[0m \u001b[0;34m*\u001b[0m\u001b[0;34m\u001b[0m\u001b[0;34m\u001b[0m\u001b[0m\n\u001b[0m",
      "\u001b[0;31mImportError\u001b[0m: attempted relative import with no known parent package"
     ]
    }
   ],
   "source": [
    "from ..scripts import stepsize"
   ]
  },
  {
   "cell_type": "code",
   "execution_count": null,
   "id": "4fcd3048",
   "metadata": {},
   "outputs": [],
   "source": [
    "\n",
    "Dh, degree = degeneracy(H, p, x, y, r, s)\n",
    "print(f'{p = }')\n",
    "print(f'{Dh = }')\n",
    "print(f'{degree = }')\n",
    "\n",
    "# dir0 = conjugate(Dh(x=p[x], y=p[y]))**(1/degree)\n",
    "# dir0 /= abs(dir0)\n",
    "\n",
    "for k in range(degree):\n",
    "\n",
    "    rotate = exp(k*2*pi*i/degree)\n",
    "    direction = rotate # * dir0\n",
    "\n",
    "    print(f'{direction = }')\n",
    "\n",
    "    # delta = step_size(H, x, y, p[x], p[y])\n",
    "    # print(f'{delta = }')\n",
    "\n",
    "    x1, y1 = step(H, x, y, p[x], p[y], direction)\n",
    "    print(f'{x1, y1 = }')\n",
    "\n",
    "    steps = walk(H, x, y, r, s, x1, y1)\n",
    "\n",
    "    break"
   ]
  }
 ],
 "metadata": {
  "kernelspec": {
   "display_name": "SageMath 9.4",
   "language": "sage",
   "name": "sagemath"
  },
  "language_info": {
   "codemirror_mode": {
    "name": "ipython",
    "version": 3
   },
   "file_extension": ".py",
   "mimetype": "text/x-python",
   "name": "python",
   "nbconvert_exporter": "python",
   "pygments_lexer": "ipython3",
   "version": "3.10.1"
  }
 },
 "nbformat": 4,
 "nbformat_minor": 5
}
