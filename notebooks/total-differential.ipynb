{
 "cells": [
  {
   "cell_type": "code",
   "execution_count": 1,
   "id": "efc5784f",
   "metadata": {},
   "outputs": [],
   "source": [
    "x = var('x')\n",
    "y = function('y')(x)\n",
    "H = function('H')(x, y)"
   ]
  },
  {
   "cell_type": "code",
   "execution_count": 2,
   "id": "8c899a6f",
   "metadata": {},
   "outputs": [
    {
     "data": {
      "text/html": [
       "<html>\\[\\newcommand{\\Bold}[1]{\\mathbf{#1}}\\mathrm{D}_{1}\\left(H\\right)\\left(x, y\\left(x\\right)\\right) \\frac{\\partial}{\\partial x}y\\left(x\\right) + \\mathrm{D}_{0}\\left(H\\right)\\left(x, y\\left(x\\right)\\right)\\]</html>"
      ],
      "text/latex": [
       "$$\\newcommand{\\Bold}[1]{\\mathbf{#1}}\\mathrm{D}_{1}\\left(H\\right)\\left(x, y\\left(x\\right)\\right) \\frac{\\partial}{\\partial x}y\\left(x\\right) + \\mathrm{D}_{0}\\left(H\\right)\\left(x, y\\left(x\\right)\\right)$$"
      ],
      "text/plain": [
       "D[1](H)(x, y(x))*diff(y(x), x) + D[0](H)(x, y(x))"
      ]
     },
     "metadata": {},
     "output_type": "display_data"
    }
   ],
   "source": [
    "show(diff(H, x))"
   ]
  },
  {
   "cell_type": "code",
   "execution_count": 3,
   "id": "53a3beac",
   "metadata": {},
   "outputs": [
    {
     "data": {
      "text/html": [
       "<html>\\[\\newcommand{\\Bold}[1]{\\mathbf{#1}}\\left[\\frac{\\partial}{\\partial x}y\\left(x\\right) = -\\frac{\\mathrm{D}_{0}\\left(H\\right)\\left(x, y\\left(x\\right)\\right)}{\\mathrm{D}_{1}\\left(H\\right)\\left(x, y\\left(x\\right)\\right)}\\right]\\]</html>"
      ],
      "text/latex": [
       "$$\\newcommand{\\Bold}[1]{\\mathbf{#1}}\\left[\\frac{\\partial}{\\partial x}y\\left(x\\right) = -\\frac{\\mathrm{D}_{0}\\left(H\\right)\\left(x, y\\left(x\\right)\\right)}{\\mathrm{D}_{1}\\left(H\\right)\\left(x, y\\left(x\\right)\\right)}\\right]$$"
      ],
      "text/plain": [
       "[diff(y(x), x) == -D[0](H)(x, y(x))/D[1](H)(x, y(x))]"
      ]
     },
     "metadata": {},
     "output_type": "display_data"
    }
   ],
   "source": [
    "show(solve(diff(H, x), diff(y, x)))"
   ]
  },
  {
   "cell_type": "code",
   "execution_count": 4,
   "id": "f4cb339b",
   "metadata": {},
   "outputs": [
    {
     "data": {
      "text/html": [
       "<html>\\[\\newcommand{\\Bold}[1]{\\mathbf{#1}}\\left[\\frac{\\partial^{2}}{(\\partial x)^{2}}y\\left(x\\right) = -\\frac{\\mathrm{D}_{1, 1}\\left(H\\right)\\left(x, y\\left(x\\right)\\right) \\frac{\\partial}{\\partial x}y\\left(x\\right)^{2} + 2 \\, \\mathrm{D}_{0, 1}\\left(H\\right)\\left(x, y\\left(x\\right)\\right) \\frac{\\partial}{\\partial x}y\\left(x\\right) + \\mathrm{D}_{0, 0}\\left(H\\right)\\left(x, y\\left(x\\right)\\right)}{\\mathrm{D}_{1}\\left(H\\right)\\left(x, y\\left(x\\right)\\right)}\\right]\\]</html>"
      ],
      "text/latex": [
       "$$\\newcommand{\\Bold}[1]{\\mathbf{#1}}\\left[\\frac{\\partial^{2}}{(\\partial x)^{2}}y\\left(x\\right) = -\\frac{\\mathrm{D}_{1, 1}\\left(H\\right)\\left(x, y\\left(x\\right)\\right) \\frac{\\partial}{\\partial x}y\\left(x\\right)^{2} + 2 \\, \\mathrm{D}_{0, 1}\\left(H\\right)\\left(x, y\\left(x\\right)\\right) \\frac{\\partial}{\\partial x}y\\left(x\\right) + \\mathrm{D}_{0, 0}\\left(H\\right)\\left(x, y\\left(x\\right)\\right)}{\\mathrm{D}_{1}\\left(H\\right)\\left(x, y\\left(x\\right)\\right)}\\right]$$"
      ],
      "text/plain": [
       "[diff(y(x), x, x) == -(D[1, 1](H)(x, y(x))*diff(y(x), x)^2 + 2*D[0, 1](H)(x, y(x))*diff(y(x), x) + D[0, 0](H)(x, y(x)))/D[1](H)(x, y(x))]"
      ]
     },
     "metadata": {},
     "output_type": "display_data"
    }
   ],
   "source": [
    "show(solve(diff(H, x, 2), diff(y, x, 2)))"
   ]
  },
  {
   "cell_type": "code",
   "execution_count": 5,
   "id": "05d9c544",
   "metadata": {},
   "outputs": [
    {
     "data": {
      "text/html": [
       "<html>\\[\\newcommand{\\Bold}[1]{\\mathbf{#1}}\\left[\\frac{\\partial^{3}}{(\\partial x)^{3}}y\\left(x\\right) = -\\frac{\\mathrm{D}_{1, 1, 1}\\left(H\\right)\\left(x, y\\left(x\\right)\\right) \\frac{\\partial}{\\partial x}y\\left(x\\right)^{3} + 3 \\, \\mathrm{D}_{0, 1, 1}\\left(H\\right)\\left(x, y\\left(x\\right)\\right) \\frac{\\partial}{\\partial x}y\\left(x\\right)^{2} + 3 \\, \\mathrm{D}_{1, 1}\\left(H\\right)\\left(x, y\\left(x\\right)\\right) \\frac{\\partial}{\\partial x}y\\left(x\\right) \\frac{\\partial^{2}}{(\\partial x)^{2}}y\\left(x\\right) + 3 \\, \\mathrm{D}_{0, 0, 1}\\left(H\\right)\\left(x, y\\left(x\\right)\\right) \\frac{\\partial}{\\partial x}y\\left(x\\right) + 3 \\, \\mathrm{D}_{0, 1}\\left(H\\right)\\left(x, y\\left(x\\right)\\right) \\frac{\\partial^{2}}{(\\partial x)^{2}}y\\left(x\\right) + \\mathrm{D}_{0, 0, 0}\\left(H\\right)\\left(x, y\\left(x\\right)\\right)}{\\mathrm{D}_{1}\\left(H\\right)\\left(x, y\\left(x\\right)\\right)}\\right]\\]</html>"
      ],
      "text/latex": [
       "$$\\newcommand{\\Bold}[1]{\\mathbf{#1}}\\left[\\frac{\\partial^{3}}{(\\partial x)^{3}}y\\left(x\\right) = -\\frac{\\mathrm{D}_{1, 1, 1}\\left(H\\right)\\left(x, y\\left(x\\right)\\right) \\frac{\\partial}{\\partial x}y\\left(x\\right)^{3} + 3 \\, \\mathrm{D}_{0, 1, 1}\\left(H\\right)\\left(x, y\\left(x\\right)\\right) \\frac{\\partial}{\\partial x}y\\left(x\\right)^{2} + 3 \\, \\mathrm{D}_{1, 1}\\left(H\\right)\\left(x, y\\left(x\\right)\\right) \\frac{\\partial}{\\partial x}y\\left(x\\right) \\frac{\\partial^{2}}{(\\partial x)^{2}}y\\left(x\\right) + 3 \\, \\mathrm{D}_{0, 0, 1}\\left(H\\right)\\left(x, y\\left(x\\right)\\right) \\frac{\\partial}{\\partial x}y\\left(x\\right) + 3 \\, \\mathrm{D}_{0, 1}\\left(H\\right)\\left(x, y\\left(x\\right)\\right) \\frac{\\partial^{2}}{(\\partial x)^{2}}y\\left(x\\right) + \\mathrm{D}_{0, 0, 0}\\left(H\\right)\\left(x, y\\left(x\\right)\\right)}{\\mathrm{D}_{1}\\left(H\\right)\\left(x, y\\left(x\\right)\\right)}\\right]$$"
      ],
      "text/plain": [
       "[diff(y(x), x, x, x) == -(D[1, 1, 1](H)(x, y(x))*diff(y(x), x)^3 + 3*D[0, 1, 1](H)(x, y(x))*diff(y(x), x)^2 + 3*D[1, 1](H)(x, y(x))*diff(y(x), x)*diff(y(x), x, x) + 3*D[0, 0, 1](H)(x, y(x))*diff(y(x), x) + 3*D[0, 1](H)(x, y(x))*diff(y(x), x, x) + D[0, 0, 0](H)(x, y(x)))/D[1](H)(x, y(x))]"
      ]
     },
     "metadata": {},
     "output_type": "display_data"
    }
   ],
   "source": [
    "show(solve(diff(H, x, 3), diff(y, x, 3)))"
   ]
  },
  {
   "cell_type": "code",
   "execution_count": 6,
   "id": "cb014d04",
   "metadata": {},
   "outputs": [
    {
     "data": {
      "text/html": [
       "<html>\\[\\newcommand{\\Bold}[1]{\\mathbf{#1}}\\left[\\frac{\\partial^{4}}{(\\partial x)^{4}}y\\left(x\\right) = -\\frac{\\mathrm{D}_{1, 1, 1, 1}\\left(H\\right)\\left(x, y\\left(x\\right)\\right) \\frac{\\partial}{\\partial x}y\\left(x\\right)^{4} + 4 \\, \\mathrm{D}_{0, 1, 1, 1}\\left(H\\right)\\left(x, y\\left(x\\right)\\right) \\frac{\\partial}{\\partial x}y\\left(x\\right)^{3} + 6 \\, \\mathrm{D}_{1, 1, 1}\\left(H\\right)\\left(x, y\\left(x\\right)\\right) \\frac{\\partial}{\\partial x}y\\left(x\\right)^{2} \\frac{\\partial^{2}}{(\\partial x)^{2}}y\\left(x\\right) + 6 \\, \\mathrm{D}_{0, 0, 1, 1}\\left(H\\right)\\left(x, y\\left(x\\right)\\right) \\frac{\\partial}{\\partial x}y\\left(x\\right)^{2} + {\\left(3 \\, \\frac{\\partial^{2}}{(\\partial x)^{2}}y\\left(x\\right)^{2} + 4 \\, \\frac{\\partial}{\\partial x}y\\left(x\\right) \\frac{\\partial^{3}}{(\\partial x)^{3}}y\\left(x\\right)\\right)} \\mathrm{D}_{1, 1}\\left(H\\right)\\left(x, y\\left(x\\right)\\right) + 4 \\, \\mathrm{D}_{0, 0, 0, 1}\\left(H\\right)\\left(x, y\\left(x\\right)\\right) \\frac{\\partial}{\\partial x}y\\left(x\\right) + 6 \\, {\\left(2 \\, \\mathrm{D}_{0, 1, 1}\\left(H\\right)\\left(x, y\\left(x\\right)\\right) \\frac{\\partial}{\\partial x}y\\left(x\\right) + \\mathrm{D}_{0, 0, 1}\\left(H\\right)\\left(x, y\\left(x\\right)\\right)\\right)} \\frac{\\partial^{2}}{(\\partial x)^{2}}y\\left(x\\right) + 4 \\, \\mathrm{D}_{0, 1}\\left(H\\right)\\left(x, y\\left(x\\right)\\right) \\frac{\\partial^{3}}{(\\partial x)^{3}}y\\left(x\\right) + \\mathrm{D}_{0, 0, 0, 0}\\left(H\\right)\\left(x, y\\left(x\\right)\\right)}{\\mathrm{D}_{1}\\left(H\\right)\\left(x, y\\left(x\\right)\\right)}\\right]\\]</html>"
      ],
      "text/latex": [
       "$$\\newcommand{\\Bold}[1]{\\mathbf{#1}}\\left[\\frac{\\partial^{4}}{(\\partial x)^{4}}y\\left(x\\right) = -\\frac{\\mathrm{D}_{1, 1, 1, 1}\\left(H\\right)\\left(x, y\\left(x\\right)\\right) \\frac{\\partial}{\\partial x}y\\left(x\\right)^{4} + 4 \\, \\mathrm{D}_{0, 1, 1, 1}\\left(H\\right)\\left(x, y\\left(x\\right)\\right) \\frac{\\partial}{\\partial x}y\\left(x\\right)^{3} + 6 \\, \\mathrm{D}_{1, 1, 1}\\left(H\\right)\\left(x, y\\left(x\\right)\\right) \\frac{\\partial}{\\partial x}y\\left(x\\right)^{2} \\frac{\\partial^{2}}{(\\partial x)^{2}}y\\left(x\\right) + 6 \\, \\mathrm{D}_{0, 0, 1, 1}\\left(H\\right)\\left(x, y\\left(x\\right)\\right) \\frac{\\partial}{\\partial x}y\\left(x\\right)^{2} + {\\left(3 \\, \\frac{\\partial^{2}}{(\\partial x)^{2}}y\\left(x\\right)^{2} + 4 \\, \\frac{\\partial}{\\partial x}y\\left(x\\right) \\frac{\\partial^{3}}{(\\partial x)^{3}}y\\left(x\\right)\\right)} \\mathrm{D}_{1, 1}\\left(H\\right)\\left(x, y\\left(x\\right)\\right) + 4 \\, \\mathrm{D}_{0, 0, 0, 1}\\left(H\\right)\\left(x, y\\left(x\\right)\\right) \\frac{\\partial}{\\partial x}y\\left(x\\right) + 6 \\, {\\left(2 \\, \\mathrm{D}_{0, 1, 1}\\left(H\\right)\\left(x, y\\left(x\\right)\\right) \\frac{\\partial}{\\partial x}y\\left(x\\right) + \\mathrm{D}_{0, 0, 1}\\left(H\\right)\\left(x, y\\left(x\\right)\\right)\\right)} \\frac{\\partial^{2}}{(\\partial x)^{2}}y\\left(x\\right) + 4 \\, \\mathrm{D}_{0, 1}\\left(H\\right)\\left(x, y\\left(x\\right)\\right) \\frac{\\partial^{3}}{(\\partial x)^{3}}y\\left(x\\right) + \\mathrm{D}_{0, 0, 0, 0}\\left(H\\right)\\left(x, y\\left(x\\right)\\right)}{\\mathrm{D}_{1}\\left(H\\right)\\left(x, y\\left(x\\right)\\right)}\\right]$$"
      ],
      "text/plain": [
       "[diff(y(x), x, x, x, x) == -(D[1, 1, 1, 1](H)(x, y(x))*diff(y(x), x)^4 + 4*D[0, 1, 1, 1](H)(x, y(x))*diff(y(x), x)^3 + 6*D[1, 1, 1](H)(x, y(x))*diff(y(x), x)^2*diff(y(x), x, x) + 6*D[0, 0, 1, 1](H)(x, y(x))*diff(y(x), x)^2 + (3*diff(y(x), x, x)^2 + 4*diff(y(x), x)*diff(y(x), x, x, x))*D[1, 1](H)(x, y(x)) + 4*D[0, 0, 0, 1](H)(x, y(x))*diff(y(x), x) + 6*(2*D[0, 1, 1](H)(x, y(x))*diff(y(x), x) + D[0, 0, 1](H)(x, y(x)))*diff(y(x), x, x) + 4*D[0, 1](H)(x, y(x))*diff(y(x), x, x, x) + D[0, 0, 0, 0](H)(x, y(x)))/D[1](H)(x, y(x))]"
      ]
     },
     "metadata": {},
     "output_type": "display_data"
    }
   ],
   "source": [
    "show(solve(diff(H, x, 4), diff(y, x, 4)))"
   ]
  },
  {
   "cell_type": "code",
   "execution_count": null,
   "id": "593b0ebb",
   "metadata": {},
   "outputs": [],
   "source": []
  }
 ],
 "metadata": {
  "kernelspec": {
   "display_name": "SageMath 9.4",
   "language": "sage",
   "name": "sagemath"
  },
  "language_info": {
   "codemirror_mode": {
    "name": "ipython",
    "version": 3
   },
   "file_extension": ".py",
   "mimetype": "text/x-python",
   "name": "python",
   "nbconvert_exporter": "python",
   "pygments_lexer": "ipython3",
   "version": "3.10.1"
  }
 },
 "nbformat": 4,
 "nbformat_minor": 5
}
